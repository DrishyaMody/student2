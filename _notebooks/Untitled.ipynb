{
 "cells": [
  {
   "cell_type": "code",
   "execution_count": 8,
   "id": "103eee2a",
   "metadata": {},
   "outputs": [
    {
     "data": {
      "text/html": [
       "<div>\n",
       "    <p>This is a paragraph</p>\n",
       "    <button>some button text</button>\n",
       "</div>\n",
       "<div>\n",
       "    <a href=\"https://drishyamody.github.io/student2/\">link text</a>\n",
       "    <a href=\"https://drishyamody.github.io/student2/\">link text</a>\n",
       "    <p>This is a paragraph</p>\n",
       "</div>\n",
       "\n",
       "\n",
       "\n"
      ],
      "text/plain": [
       "<IPython.core.display.HTML object>"
      ]
     },
     "metadata": {},
     "output_type": "display_data"
    }
   ],
   "source": [
    "%%html\n",
    "<div>\n",
    "    <p>This is a paragraph</p>\n",
    "    <button>some button text</button>\n",
    "</div>\n",
    "<div>\n",
    "    <a href=\"https://drishyamody.github.io/student2/\">link text</a>\n",
    "    <a href=\"https://drishyamody.github.io/student2/\">link text</a>\n",
    "    <p>This is a paragraph</p>\n",
    "</div>\n",
    "\n",
    "\n",
    "\n"
   ]
  },
  {
   "cell_type": "code",
   "execution_count": null,
   "id": "d9497d72",
   "metadata": {},
   "outputs": [],
   "source": []
  },
  {
   "cell_type": "code",
   "execution_count": null,
   "id": "4148fcc8",
   "metadata": {},
   "outputs": [],
   "source": []
  }
 ],
 "metadata": {
  "kernelspec": {
   "display_name": "Python 3 (ipykernel)",
   "language": "python",
   "name": "python3"
  },
  "language_info": {
   "codemirror_mode": {
    "name": "ipython",
    "version": 3
   },
   "file_extension": ".py",
   "mimetype": "text/x-python",
   "name": "python",
   "nbconvert_exporter": "python",
   "pygments_lexer": "ipython3",
   "version": "3.11.4"
  }
 },
 "nbformat": 4,
 "nbformat_minor": 5
}
