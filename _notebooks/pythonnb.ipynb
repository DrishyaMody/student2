{
 "cells": [
  {
   "cell_type": "code",
   "execution_count": 1,
   "id": "f092d4bf",
   "metadata": {},
   "outputs": [
    {
     "name": "stdout",
     "output_type": "stream",
     "text": [
      "What is your name?Dr\n",
      "Hi Dr! Are you ready for the quiz!\n"
     ]
    }
   ],
   "source": [
    "#Asking name before quiz\n",
    "name=input(\"What is your name?\")\n",
    "print(f'Hi {name}! Are you ready for the quiz!')\n"
   ]
  },
  {
   "cell_type": "code",
   "execution_count": null,
   "id": "c325aab5",
   "metadata": {},
   "outputs": [],
   "source": [
    "#Question 1 sequence\n",
    "question1=input('Name the Python output command mentioned in this lesson?')\n",
    "print(f'{question1}')\n",
    "if question1 == 'Static Text':\n",
    "    print('Great Job! Ready for the next question?')\n",
    "elif question1== 'static text':\n",
    "    print('Great Job! Ready for the next question?')\n",
    "elif question1=='Static text':\n",
    "        print('Great Job! Ready for the next question?')\n",
    "else:\n",
    "     print ('Sorry that is incorrect')\n",
    "#Question 2 Sequqnce\n",
    "question2=input('If you see many lines of code in order, what would College Board call it?')"
   ]
  },
  {
   "cell_type": "code",
   "execution_count": null,
   "id": "8e0e42f2",
   "metadata": {},
   "outputs": [],
   "source": []
  }
 ],
 "metadata": {
  "kernelspec": {
   "display_name": "Python 3 (ipykernel)",
   "language": "python",
   "name": "python3"
  },
  "language_info": {
   "codemirror_mode": {
    "name": "ipython",
    "version": 3
   },
   "file_extension": ".py",
   "mimetype": "text/x-python",
   "name": "python",
   "nbconvert_exporter": "python",
   "pygments_lexer": "ipython3",
   "version": "3.11.4"
  }
 },
 "nbformat": 4,
 "nbformat_minor": 5
}
