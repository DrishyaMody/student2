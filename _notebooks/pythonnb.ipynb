{
 "cells": [
  {
   "cell_type": "code",
   "execution_count": null,
   "id": "f092d4bf",
   "metadata": {},
   "outputs": [
    {
     "name": "stdout",
     "output_type": "stream",
     "text": [
      "What is your name?Dr\n",
      "Hi Dr! Are you ready for the quiz!\n"
     ]
    }
   ],
   "source": [
    "#Function definition(prompt, answer): this function asks question and checks useranswer is correct and returns a point if answer is correct\n",
    "def question (prompt, answer):\n",
    "    point=0\n",
    "    useranswer=input(prompt)\n",
    "    print(f'{useranswer}')\n",
    "    if useranswer.casefold() == answer.casefold():\n",
    "        print ('Great Job! Thats Correct time for the next question!')\n",
    "        point= point + 1\n",
    "    else:\n",
    "        print('Sorry that is incorrect.')\n",
    "    return point\n"
   ]
  },
  {
   "cell_type": "code",
   "execution_count": null,
   "id": "c325aab5",
   "metadata": {},
   "outputs": [],
   "source": [
    "#Asking name before quiz\n",
    "name=input(\"What is your name?\")\n",
    "print(f'Hi {name}! Are you ready for the quiz!')\n",
    "score=0"
   ]
  },
  {
   "cell_type": "code",
   "execution_count": null,
   "id": "8e0e42f2",
   "metadata": {},
   "outputs": [],
   "source": [
    "#Question 1 sequence\n",
    "score=score+question('How many planets are in the solar system?', '8')\n",
    "\n",
    "#Question 2 sequence\n",
    "score=score+question('What sport does Lionel Messi play?', 'soccer')\n",
    "\n",
    "#Question 3 sequence\n",
    "score=score+question('How many continents are there?','7')"
   ]
  },
  {
   "cell_type": "code",
   "execution_count": null,
   "id": "935316e7",
   "metadata": {},
   "outputs": [],
   "source": [
    "#Score/percentage calculation\n",
    "percentage = (score/3)*100\n",
    "\n",
    "print (f'Your score is {percentage:.2f}%')"
   ]
  }
 ],
 "metadata": {
  "kernelspec": {
   "display_name": "Python 3 (ipykernel)",
   "language": "python",
   "name": "python3"
  },
  "language_info": {
   "codemirror_mode": {
    "name": "ipython",
    "version": 3
   },
   "file_extension": ".py",
   "mimetype": "text/x-python",
   "name": "python",
   "nbconvert_exporter": "python",
   "pygments_lexer": "ipython3",
   "version": "3.11.4"
  }
 },
 "nbformat": 4,
 "nbformat_minor": 5
}
