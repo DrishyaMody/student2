{
 "cells": [
  {
   "cell_type": "markdown",
   "metadata": {},
   "source": [
    "---\n",
    "comments: true\n",
    "layout: post\n",
    "title: Homework Hacks on Variables\n",
    "courses: {csp: {week: 9} }\n",
    "type: hacks\n",
    "---"
   ]
  },
  {
   "cell_type": "code",
   "execution_count": 9,
   "metadata": {},
   "outputs": [
    {
     "name": "stdout",
     "output_type": "stream",
     "text": [
      "26\n",
      "tesla\n",
      "True\n"
     ]
    }
   ],
   "source": [
    "#Variable 1 \n",
    "numStudents = 26\n",
    "print(numStudents)\n",
    "\n",
    "\n",
    "#Variable2\n",
    "car = 'tesla'\n",
    "print(car)\n",
    " \n",
    "#Variable3\n",
    "groupMates=['Nikki', 'Monika', 'Ankit', 'Varun']\n",
    "\n",
    "#Variable4\n",
    "dogsbeatcats=True\n",
    "print(dogsbeatcats)\n",
    "\n",
    "\n",
    "#Variable 1 is an integer\n",
    "#Variable 2 is a string\n",
    "#Variable 3 is a list\n",
    "#Variable 4 is a boolean"
   ]
  },
  {
   "cell_type": "code",
   "execution_count": 15,
   "metadata": {},
   "outputs": [
    {
     "name": "stdout",
     "output_type": "stream",
     "text": [
      "25\n",
      "Hello world\n",
      "['Stats', 'US History', 'APES', 'APCSP', 'AmLit']\n",
      "True\n",
      "<class 'list'>\n",
      "[\"10\", \"14\", \"4\", \"18\"]\n",
      "<class 'str'>\n"
     ]
    }
   ],
   "source": [
    "#HACK 2\n",
    "#Integer Variable\n",
    "number= 25\n",
    "print(number)\n",
    "#String variable\n",
    "string= 'Hello world'\n",
    "print(string)\n",
    "#List variable\n",
    "myclasses=['Stats', 'US History', 'APES', 'APCSP', 'AmLit']\n",
    "print(myclasses)\n",
    "#Boolean Variable\n",
    "Summerbeatswinter= True\n",
    "print(Summerbeatswinter)\n",
    "\n",
    "import json\n",
    "MyJerseynumbers= ['10','14','4','18']\n",
    "print(type(MyJerseynumbers))\n",
    "a = json.dumps(MyJerseynumbers)\n",
    "print(a)\n",
    "print(type(a))\n"
   ]
  },
  {
   "cell_type": "code",
   "execution_count": 13,
   "metadata": {},
   "outputs": [
    {
     "name": "stdout",
     "output_type": "stream",
     "text": [
      "<class 'list'>\n",
      "[\"10\", \"14\", \"4\", \"18\"]\n",
      "<class 'str'>\n"
     ]
    }
   ],
   "source": []
  }
 ],
 "metadata": {
  "kernelspec": {
   "display_name": "Python 3",
   "language": "python",
   "name": "python3"
  },
  "language_info": {
   "codemirror_mode": {
    "name": "ipython",
    "version": 3
   },
   "file_extension": ".py",
   "mimetype": "text/x-python",
   "name": "python",
   "nbconvert_exporter": "python",
   "pygments_lexer": "ipython3",
   "version": "3.11.4"
  },
  "orig_nbformat": 4
 },
 "nbformat": 4,
 "nbformat_minor": 2
}
