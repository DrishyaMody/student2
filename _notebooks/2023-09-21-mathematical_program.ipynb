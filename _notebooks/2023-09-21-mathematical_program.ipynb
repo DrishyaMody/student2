{
 "cells": [
  {
   "cell_type": "markdown",
   "metadata": {},
   "source": [
    "---\n",
    "toc: true\n",
    "comments: true\n",
    "layout: post\n",
    "title: Comments on mathematical program\n",
    "courses: {\"csp\": {\"week\": 5} }\n",
    "type: hacks\n",
    "---"
   ]
  },
  {
   "cell_type": "code",
   "execution_count": 2,
   "metadata": {},
   "outputs": [
    {
     "name": "stdout",
     "output_type": "stream",
     "text": [
      "List of Numbers: [12, 18, 24, 32, 42, 55, 67]\n",
      "Mean (Average): 35.714285714285715\n",
      "Standard Deviation: 20.072487686003495\n"
     ]
    }
   ],
   "source": [
    "import statistics\n",
    "\n",
    "# Sample list of numbers\n",
    "data = [12, 18, 24, 32, 42, 55, 67]\n",
    "\n",
    "# Calculate the mean (average) of the numbers\n",
    "mean = statistics.mean(data)\n",
    "\n",
    "# Calculate the standard deviation of the numbers\n",
    "std_deviation = statistics.stdev(data)\n",
    "\n",
    "# Display the results\n",
    "print(\"List of Numbers:\", data)\n",
    "print(\"Mean (Average):\", mean)\n",
    "print(\"Standard Deviation:\", std_deviation)\n"
   ]
  }
 ],
 "metadata": {
  "kernelspec": {
   "display_name": "Python 3",
   "language": "python",
   "name": "python3"
  },
  "language_info": {
   "codemirror_mode": {
    "name": "ipython",
    "version": 3
   },
   "file_extension": ".py",
   "mimetype": "text/x-python",
   "name": "python",
   "nbconvert_exporter": "python",
   "pygments_lexer": "ipython3",
   "version": "3.11.4"
  },
  "orig_nbformat": 4
 },
 "nbformat": 4,
 "nbformat_minor": 2
}
