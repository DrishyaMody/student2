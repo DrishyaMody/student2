{
 "cells": [
  {
   "cell_type": "markdown",
   "metadata": {
    "vscode": {
     "languageId": "plaintext"
    }
   },
   "source": [
    "---\n",
    "toc: true\n",
    "comments: true\n",
    "layout: post\n",
    "title: DataStructures Writeup\n",
    "courses: { csp: {week: 16} }\n",
    "type: hacks\n",
    "permalink: writeup\n",
    "---\n"
   ]
  },
  {
   "cell_type": "markdown",
   "metadata": {},
   "source": [
    "\n",
    "- From VSCode using SQLite3 Editor, show your unique collection/table in database, display rows and columns in the table   of the SQLite database.\n",
    "<img src=\"https://drishyamody.github.io/student2/images/databaseCollabora.png\" height=\"500\" width=\"600\">  \n",
    "\n",
    "- From VSCode model, show your unique code that was created to initialize table and create test data.\n",
    "\n",
    "<img src=\"https://drishyamody.github.io/student2/images/modelCode.png\" height=\"500\" width=\"600\">  \n"
   ]
  },
  {
   "cell_type": "markdown",
   "metadata": {},
   "source": [
    "Lists and Dictionaries\n",
    "Blog Python API code and use of List and Dictionaries.\n",
    "\n",
    "- In VSCode using Debugger, show a list as extracted from database as Python objects.\n",
    "<img src=\"https://drishyamody.github.io/student2/images/vscodevariablething.png\" height=\"500\" width=\"600\">  \n",
    "\n",
    "- In VSCode use Debugger and list, show two distinct example examples of dictionaries, show Keys/Values using debugger.\n"
   ]
  },
  {
   "cell_type": "markdown",
   "metadata": {},
   "source": [
    "APIs and JSON\n",
    "Blog Python API code and use of Postman to request and respond with JSON.\n",
    "\n",
    "- In VSCode, show Python API code definition for request and response using GET, POST, UPDATE methods. Discuss algorithmic condition used to direct request to appropriate Python method based on request method.\n",
    "\n",
    "<img src=\"https://drishyamody.github.io/student2/images/getCRUD.png\" height=\"500\" width=\"600\">  \n",
    "<img src=\"https://drishyamody.github.io/student2/images/postCRUD.png\" height=\"500\" width=\"600\">  \n",
    "\n",
    "- In VSCode, show algorithmic conditions used to validate data on a POST condition.\n",
    "<img src=\"https://drishyamody.github.io/student2/images/validityWriteups.png\" height=\"400\" width=\"1000\">  \n",
    "\n",
    "- In Postman, show URL request and Body requirements for GET, POST, and UPDATE methods.\n",
    "- In Postman, show the JSON response data for 200 success conditions on GET, POST, and UPDATE methods.\n",
    "\n",
    "<img src=\"https://drishyamody.github.io/student2/images/postRequest.png\" height=\"500\" width=\"600\">  \n",
    "<img src=\"https://drishyamody.github.io/student2/images/getRequest.png\" height=\"500\" width=\"600\">  \n",
    "<img src=\"https://drishyamody.github.io/student2/images/putRequest.png\" height=\"500\" width=\"600\">  \n",
    "\n",
    "- In Postman, show the JSON response for error for 400 when missing body on a POST request.\n",
    "<img src=\"https://drishyamody.github.io/student2/images/400error.png\" height=\"500\" width=\"800\">  \n",
    "\n",
    "- In Postman, show the JSON response for error for 404 when providing an unknown user ID to a UPDATE request.\n",
    "\n",
    "<img src=\"https://drishyamody.github.io/student2/images/404error.png\" height=\"500\" width=\"600\">  \n"
   ]
  },
  {
   "cell_type": "markdown",
   "metadata": {
    "vscode": {
     "languageId": "plaintext"
    }
   },
   "source": [
    "Frontend\n",
    "Blog JavaScript API fetch code and formatting code to display JSON.\n",
    "\n",
    "- In Chrome inspect, show response of JSON objects from fetch of GET, POST, and UPDATE methods.\n",
    "\n",
    "POST\n",
    "\n",
    "<img src=\"https://drishyamody.github.io/student2/images/inspectelement1.png\" height=\"500\" width=\"1000\">  \n",
    "\n",
    "GET\n",
    "\n",
    "<img src=\"https://drishyamody.github.io/student2/images/inspectelement2.png\" height=\"500\" width=\"1000\">  \n",
    "\n",
    "UPDATE\n",
    "\n",
    "- In the Chrome browser, show a demo (GET) of obtaining an Array of JSON objects that are formatted into the browsers screen.\n",
    "<img src=\"https://drishyamody.github.io/student2/images/inspectelement3.png\" height=\"500\" width=\"1000\">  \n",
    "\n",
    "\n",
    "- In JavaScript code, describe fetch and method that obtained the Array of JSON objects.\n",
    "\n",
    "\n"
   ]
  },
  {
   "cell_type": "markdown",
   "metadata": {},
   "source": [
    "```\n",
    "function topicSearch() {\n",
    "    const enteredTopic = document.getElementById(\"search-input\").value;\n",
    "\n",
    "    var myHeaders = new Headers();\n",
    "    myHeaders.append(\"Content-Type\", \"application/json\");\n",
    "    \n",
    "    var requestOptions = {\n",
    "        method: 'GET',\n",
    "        headers: myHeaders,\n",
    "        redirect: 'follow'\n",
    "    };\n",
    "\n",
    "    fetch(\"http://127.0.0.1:8086/api/post/?searchString=\" + enteredTopic, requestOptions)\n",
    "        .then(response => {\n",
    "            if (response.ok) {\n",
    "                console.log(enteredTopic + \" has been searched\");\n",
    "                return response.json(); // Parse the JSON in the response body\n",
    "            } else {\n",
    "                console.error(\"Search failed\");\n",
    "                const errorMessageDiv = document.getElementById('errorMessage');\n",
    "                errorMessageDiv.innerHTML = '<label style=\"color: red;\">Search Failed</label>';\n",
    "                throw new Error('Search failed');\n",
    "            }\n",
    "        })\n",
    "        .then(data => {\n",
    "            // Here 'data' is the parsed JSON object from the response body\n",
    "            console.log(data); // You can see your fetched data here\n",
    "            createTableFromJSON(data); // Assuming 'createTableFromJSON' expects the JSON data as parameter\n",
    "        })\n",
    "        .catch(error => {\n",
    "            // Handle any errors that occurred during the fetch() or in the promise chain\n",
    "            console.error('Error:', error);\n",
    "        });\n",
    "}\n",
    "```"
   ]
  },
  {
   "cell_type": "markdown",
   "metadata": {
    "vscode": {
     "languageId": "plaintext"
    }
   },
   "source": [
    "- In JavaScript code, show code that performs iteration and formatting of data into HTML.\n",
    "```\n",
    "              .then(data => {\n",
    "            // Here 'data' is the parsed JSON object from the response body\n",
    "            console.log(data); // You can see your fetched data here\n",
    "             createTableFromJSON(data); // Assuming 'createTableFromJSON' expects the JSON data as parameter\n",
    "         })\n",
    "         .catch(error => {\n",
    "             // Handle any errors that occurred during the fetch() or in the promise chain\n",
    "             console.error('Error:', error);\n",
    "        });\n",
    "```\n",
    "- In the Chrome browser, show a demo (POST or UPDATE) gathering and sending input and receiving a response that show update. Repeat this demo showing both success and failure.\n",
    "\n",
    "FAILURE\n",
    "\n",
    "<img src=\"https://drishyamody.github.io/student2/images/postFailure.png\" height=\"500\" width=\"1000\">  \n",
    "\n",
    "SUCCESS\n",
    "\n",
    "<img src=\"https://drishyamody.github.io/student2/images/postSuccess.png\" height=\"500\" width=\"1000\">  \n",
    "\n",
    "\n",
    "- In JavaScript code, show and describe code that handles success. Describe how code shows success to the user in the Chrome Browser screen.\n",
    "```\n",
    "   fetch(\"http://127.0.0.1:8086/api/post/\", requestOptions)\n",
    "        .then(response => {\n",
    "            if (response.ok) {\n",
    "                console.log(\"Question Received\");\n",
    "                alert(\"Question has been sent, you will receive a response soon.\");\n",
    "              } \n",
    "              }\n",
    "          )\n",
    "```\n",
    "- In JavaScript code, show and describe code that handles failure. Describe how the code shows failure to the user in the Chrome Browser screen.\n",
    "```\n",
    "else {\n",
    "                console.error(\"Question creation failed\");\n",
    "                // You can handle failed login attempts here\n",
    "                const errorMessageDiv = document.getElementById('errorMessage');\n",
    "                errorMessageDiv.innerHTML = '<label style=\"color: red;\">Question Creation Failed</label>';}\n",
    "```"
   ]
  }
 ],
 "metadata": {
  "kernelspec": {
   "display_name": "Python 3",
   "language": "python",
   "name": "python3"
  },
  "language_info": {
   "codemirror_mode": {
    "name": "ipython",
    "version": 3
   },
   "file_extension": ".py",
   "mimetype": "text/x-python",
   "name": "python",
   "nbconvert_exporter": "python",
   "pygments_lexer": "ipython3",
   "version": "3.11.4"
  }
 },
 "nbformat": 4,
 "nbformat_minor": 2
}
