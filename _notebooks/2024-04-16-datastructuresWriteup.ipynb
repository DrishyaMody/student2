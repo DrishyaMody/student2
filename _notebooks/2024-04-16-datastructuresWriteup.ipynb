{
 "cells": [
  {
   "cell_type": "markdown",
   "metadata": {
    "vscode": {
     "languageId": "plaintext"
    }
   },
   "source": [
    "---\n",
    "toc: true\n",
    "comments: true\n",
    "layout: post\n",
    "title: DataStructures Writeup\n",
    "courses: { csp: {week: 16} }\n",
    "type: hacks\n",
    "permalink: writeup\n",
    "---\n"
   ]
  },
  {
   "cell_type": "markdown",
   "metadata": {},
   "source": [
    "\n",
    "- From VSCode using SQLite3 Editor, show your unique collection/table in database, display rows and columns in the table   of the SQLite database.\n",
    "<img src=\"http://0.0.0.0:4200/student2/images/databaseCollabora.png\" height=\"500\" width=\"600\">  \n",
    "\n",
    "- From VSCode model, show your unique code that was created to initialize table and create test data.\n",
    "\n",
    "<img src=\"http://0.0.0.0:4200/student2/images/modelCode.png\" height=\"500\" width=\"600\">  \n"
   ]
  },
  {
   "cell_type": "markdown",
   "metadata": {},
   "source": [
    "Lists and Dictionaries\n",
    "Blog Python API code and use of List and Dictionaries.\n",
    "\n",
    "- In VSCode using Debugger, show a list as extracted from database as Python objects.\n",
    "\n",
    "- In VSCode use Debugger and list, show two distinct example examples of dictionaries, show Keys/Values using debugger."
   ]
  },
  {
   "cell_type": "markdown",
   "metadata": {},
   "source": [
    "APIs and JSON\n",
    "Blog Python API code and use of Postman to request and respond with JSON.\n",
    "\n",
    "- In VSCode, show Python API code definition for request and response using GET, POST, UPDATE methods. Discuss algorithmic condition used to direct request to appropriate Python method based on request method.\n",
    "<img src=\"http://0.0.0.0:4200/student2/images/getCRUD.png\" height=\"500\" width=\"600\">  \n",
    "<img src=\"http://0.0.0.0:4200/student2/images/postCRUD.png\" height=\"500\" width=\"600\">  \n",
    "- In VSCode, show algorithmic conditions used to validate data on a POST condition.\n",
    "<img src=\"http://0.0.0.0:4200/student2/images/validityWriteups.png\" height=\"400\" width=\"1000\">  \n",
    "\n",
    "- In Postman, show URL request and Body requirements for GET, POST, and UPDATE methods.\n",
    "- In Postman, show the JSON response data for 200 success conditions on GET, POST, and UPDATE methods.\n",
    "<img src=\"http://0.0.0.0:4200/student2/images/postRequest.png\" height=\"500\" width=\"600\">  \n",
    "<img src=\"http://0.0.0.0:4200/student2/images/getRequest.png\" height=\"500\" width=\"600\">  \n",
    "<img src=\"http://0.0.0.0:4200/student2/images/putRequest.png\" height=\"500\" width=\"600\">  \n",
    "\n",
    "- In Postman, show the JSON response for error for 400 when missing body on a POST request.\n",
    "<img src=\"http://0.0.0.0:4200/student2/images/400error.png\" height=\"500\" width=\"800\">  \n",
    "\n",
    "- In Postman, show the JSON response for error for 404 when providing an unknown user ID to a UPDATE request.\n",
    "\n",
    "<img src=\"http://0.0.0.0:4200/student2/images/404error.png\" height=\"500\" width=\"600\">  \n"
   ]
  }
 ],
 "metadata": {
  "language_info": {
   "name": "python"
  }
 },
 "nbformat": 4,
 "nbformat_minor": 2
}
